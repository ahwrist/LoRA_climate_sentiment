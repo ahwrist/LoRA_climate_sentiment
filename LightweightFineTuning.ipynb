{
 "cells": [
  {
   "cell_type": "markdown",
   "id": "f35354cd",
   "metadata": {},
   "source": [
    "# Lightweight Fine-Tuning Project"
   ]
  },
  {
   "cell_type": "markdown",
   "id": "560fb3ff",
   "metadata": {},
   "source": [
    "This Jupyter Notebook investigates the effectiveness of different fine-tuning techniques for a text classification task. We will compare the performance of three models on the task of classifying SMS messages as spam or not spam:\n",
    "\n",
    "Base Model: The pre-trained GPT-2 model from Hugging Face, without any fine-tuning.\n",
    "Fully Fine-Tuned Model: A GPT-2 model fine-tuned on the sms_spam dataset from Hugging Face.\n",
    "LoRA Fine-Tuned Model: A GPT-2 model fine-tuned on the sms_spam dataset using the Low-Rank Adaptation (LoRA) technique, a Parameter-Efficient Fine-Tuning (PEFT) method.\n",
    "We will leverage the datasets library from Hugging Face to load the sms_spam dataset and utilize the accuracy metric from the datasets library to evaluate the performance of each model.\n",
    "\n",
    "This exploration aims to assess whether more efficient fine-tuning matches or improves classification accuracy on the SMS spam task and, if so, whether LoRA offers a more efficient fine-tuning approach compared to full fine-tuning."
   ]
  },
  {
   "cell_type": "markdown",
   "id": "de8d76bb",
   "metadata": {},
   "source": [
    "## Loading and Evaluating a Foundation Model\n",
    "\n",
    "In this section, we load the pre-trained GPT2 Hugging Face model and evaluate its performance prior to fine-tuning. This step includes loading an appropriate tokenizer and dataset."
   ]
  },
  {
   "cell_type": "code",
   "execution_count": 2,
   "id": "4935cb4d",
   "metadata": {},
   "outputs": [],
   "source": [
    "# Install the required versino of datasets if needed (uncomment to run)\n",
    "# You may need to restart the kernel after running this cell\n",
    "# ! pip install -q \"datasets==2.15.0\""
   ]
  },
  {
   "cell_type": "code",
   "execution_count": 1,
   "id": "40c09ebe",
   "metadata": {},
   "outputs": [
    {
     "name": "stderr",
     "output_type": "stream",
     "text": [
      "/Users/andrewwrist/Documents/Projects/AI_ML/venv/lib/python3.11/site-packages/tqdm/auto.py:21: TqdmWarning: IProgress not found. Please update jupyter and ipywidgets. See https://ipywidgets.readthedocs.io/en/stable/user_install.html\n",
      "  from .autonotebook import tqdm as notebook_tqdm\n"
     ]
    }
   ],
   "source": [
    "from datasets import load_dataset, Dataset\n",
    "from sklearn.model_selection import train_test_split\n",
    "\n",
    "# Load the dataset from Hugging Face\n",
    "dataset = load_dataset(\"sms_spam\")\n",
    "\n",
    "# Get the raw dataset\n",
    "raw_dataset = dataset['train']  # Assuming you want to work with the 'train' split\n",
    "\n",
    "# Split the dataset into training and testing subsets\n",
    "train_data, test_data = train_test_split(raw_dataset, test_size=0.2, random_state=42)  # You can adjust test_size and random_state as needed\n",
    "\n",
    "# Convert the split data into Dataset objects\n",
    "train_dataset = Dataset.from_dict(train_data)\n",
    "test_dataset = Dataset.from_dict(test_data)\n"
   ]
  },
  {
   "cell_type": "code",
   "execution_count": 2,
   "id": "70c2c2ca",
   "metadata": {},
   "outputs": [
    {
     "data": {
      "text/plain": [
       "{'sms': \"FREE2DAY sexy St George's Day pic of Jordan!Txt PIC to 89080 dont miss out, then every wk a saucy celeb!4 more pics c PocketBabe.co.uk 0870241182716 £3/wk\\n\",\n",
       " 'label': 1}"
      ]
     },
     "execution_count": 2,
     "metadata": {},
     "output_type": "execute_result"
    }
   ],
   "source": [
    "# Inspect the first element. For labels, 0 is not spam and 1 is spam\n",
    "train_dataset[0]"
   ]
  },
  {
   "cell_type": "markdown",
   "id": "93b04a05",
   "metadata": {},
   "source": [
    "### Pre-process datasets\n",
    "The dataset needs to be processed by converting all of the text into tokens for the models."
   ]
  },
  {
   "cell_type": "code",
   "execution_count": 3,
   "id": "019b9f55",
   "metadata": {},
   "outputs": [],
   "source": [
    "from transformers import GPT2Tokenizer\n",
    "\n",
    "# Load GPT2 tokenizer\n",
    "gpt2_tokenizer = GPT2Tokenizer.from_pretrained(\"gpt2\")\n",
    "gpt2_tokenizer.pad_token = gpt2_tokenizer.eos_token  # Assign padding token\n",
    "gpt2_tokenizer.build_inputs_with_special_tokens(gpt2_tokenizer.all_special_tokens)  # Rebuild vocabulary\n",
    " \n",
    "def tokenize_dataset(dataset):\n",
    "    '''\n",
    "    Summary: Tokenize dataset for downstream LLM training and inference\n",
    "    Input: Un-tokenized dataset\n",
    "    Output: Tokenized dataset\n",
    "    '''\n",
    "    tokenized_dataset = dataset.map(\n",
    "        lambda x: gpt2_tokenizer(x['sms'], truncation=True), batched=True\n",
    "    )\n",
    "    return tokenized_dataset"
   ]
  },
  {
   "cell_type": "code",
   "execution_count": 4,
   "id": "3fdfe669",
   "metadata": {},
   "outputs": [
    {
     "name": "stderr",
     "output_type": "stream",
     "text": [
      "Map: 100%|██████████| 4459/4459 [00:00<00:00, 11899.21 examples/s]\n",
      "Map: 100%|██████████| 1115/1115 [00:00<00:00, 10342.54 examples/s]\n"
     ]
    }
   ],
   "source": [
    "# Tokenize the train and test datasets\n",
    "train_tokenized = tokenize_dataset(train_dataset)\n",
    "test_tokenized = tokenize_dataset(test_dataset)"
   ]
  },
  {
   "cell_type": "code",
   "execution_count": 5,
   "id": "97026c1f",
   "metadata": {},
   "outputs": [
    {
     "data": {
      "text/plain": [
       "Dataset({\n",
       "    features: ['sms', 'label', 'input_ids', 'attention_mask'],\n",
       "    num_rows: 4459\n",
       "})"
      ]
     },
     "execution_count": 5,
     "metadata": {},
     "output_type": "execute_result"
    }
   ],
   "source": [
    "# Inspect train dataset\n",
    "train_tokenized"
   ]
  },
  {
   "cell_type": "code",
   "execution_count": 57,
   "id": "fb325336",
   "metadata": {},
   "outputs": [],
   "source": [
    "from transformers import GPT2ForSequenceClassification\n",
    "\n",
    "def load_gpt2_model():\n",
    "    '''\n",
    "    Summary: load the GPT2 base model for training, modification, and inference\n",
    "    Output: GPT2 base model\n",
    "    '''\n",
    "    gpt2_model_base = GPT2ForSequenceClassification.from_pretrained(\n",
    "        'gpt2',\n",
    "        num_labels=2,\n",
    "        id2label={0: 'not_spam', 1: 'spam'}, # In the dataset, 0 is not spam, and 1 is spam\n",
    "        label2id={'not_spam': 0, 'spam': 1}\n",
    "    )\n",
    "\n",
    "    # Freeze all the parameters of the base model using param.requires_grad = False\n",
    "    # more info here: https://huggingface.co/transformers/v4.2.2/training.html\n",
    "    for param in gpt2_model_base.base_model.parameters():\n",
    "        param.requires_grad = True\n",
    "    return gpt2_model_base\n"
   ]
  },
  {
   "cell_type": "code",
   "execution_count": 65,
   "id": "0962297e",
   "metadata": {},
   "outputs": [
    {
     "name": "stderr",
     "output_type": "stream",
     "text": [
      "Some weights of GPT2ForSequenceClassification were not initialized from the model checkpoint at gpt2 and are newly initialized: ['score.weight']\n",
      "You should probably TRAIN this model on a down-stream task to be able to use it for predictions and inference.\n"
     ]
    }
   ],
   "source": [
    "gpt2_model_base = load_gpt2_model()"
   ]
  },
  {
   "cell_type": "code",
   "execution_count": 66,
   "id": "f107daaa",
   "metadata": {},
   "outputs": [
    {
     "data": {
      "text/plain": [
       "Linear(in_features=768, out_features=2, bias=False)"
      ]
     },
     "execution_count": 66,
     "metadata": {},
     "output_type": "execute_result"
    }
   ],
   "source": [
    "# Use model.score to output the final classification layer for GPT2. In others it may be model.classifier\n",
    "gpt2_model_base.score"
   ]
  },
  {
   "cell_type": "code",
   "execution_count": 60,
   "id": "18b8e897",
   "metadata": {},
   "outputs": [
    {
     "name": "stdout",
     "output_type": "stream",
     "text": [
      "GPT2ForSequenceClassification(\n",
      "  (transformer): GPT2Model(\n",
      "    (wte): Embedding(50257, 768)\n",
      "    (wpe): Embedding(1024, 768)\n",
      "    (drop): Dropout(p=0.1, inplace=False)\n",
      "    (h): ModuleList(\n",
      "      (0-11): 12 x GPT2Block(\n",
      "        (ln_1): LayerNorm((768,), eps=1e-05, elementwise_affine=True)\n",
      "        (attn): GPT2Attention(\n",
      "          (c_attn): lora.Linear(\n",
      "            (base_layer): Conv1D()\n",
      "            (lora_dropout): ModuleDict(\n",
      "              (default): Dropout(p=0.1, inplace=False)\n",
      "            )\n",
      "            (lora_A): ModuleDict(\n",
      "              (default): Linear(in_features=768, out_features=4, bias=False)\n",
      "            )\n",
      "            (lora_B): ModuleDict(\n",
      "              (default): Linear(in_features=4, out_features=2304, bias=False)\n",
      "            )\n",
      "            (lora_embedding_A): ParameterDict()\n",
      "            (lora_embedding_B): ParameterDict()\n",
      "          )\n",
      "          (c_proj): Conv1D()\n",
      "          (attn_dropout): Dropout(p=0.1, inplace=False)\n",
      "          (resid_dropout): Dropout(p=0.1, inplace=False)\n",
      "        )\n",
      "        (ln_2): LayerNorm((768,), eps=1e-05, elementwise_affine=True)\n",
      "        (mlp): GPT2MLP(\n",
      "          (c_fc): Conv1D()\n",
      "          (c_proj): Conv1D()\n",
      "          (act): NewGELUActivation()\n",
      "          (dropout): Dropout(p=0.1, inplace=False)\n",
      "        )\n",
      "      )\n",
      "    )\n",
      "    (ln_f): LayerNorm((768,), eps=1e-05, elementwise_affine=True)\n",
      "  )\n",
      "  (score): ModulesToSaveWrapper(\n",
      "    (original_module): Linear(in_features=768, out_features=2, bias=False)\n",
      "    (modules_to_save): ModuleDict(\n",
      "      (default): Linear(in_features=768, out_features=2, bias=False)\n",
      "    )\n",
      "  )\n",
      ")\n"
     ]
    }
   ],
   "source": [
    "# Print full model parameters\n",
    "print(gpt2_model_base)\n"
   ]
  },
  {
   "cell_type": "markdown",
   "id": "0f168898",
   "metadata": {},
   "source": [
    "### Evaluate base model on test set\n",
    "\n",
    "Note that all of the training, testing, and inference for this project is performed locally on a CPU"
   ]
  },
  {
   "cell_type": "code",
   "execution_count": null,
   "id": "568c4b81",
   "metadata": {},
   "outputs": [],
   "source": [
    "from datasets import load_metric\n",
    "import time\n",
    "\n",
    "# Set torch device to CPU for running on local CPU\n",
    "device = torch.device('cpu')\n",
    "metric = load_metric('accuracy', trust_remote_code=True)\n",
    "\n",
    "def predict(model, tokenized_dataset, pred_max_qty=50):\n",
    "  \"\"\"\n",
    "  Summmary: Function to make predictions on a specific split of the tokenized dataset\n",
    "  Input:\n",
    "    model: LLM model\n",
    "    tokenized_dataset: tokenized dataset\n",
    "    pred_max_qty: maximum quantity of predictions to predict labels for\n",
    "  Output:\n",
    "    predictions: list of predictions\n",
    "    labels: labels from initial dataset\n",
    "    accuracy: accuracy of predictions vs labels from dataset\n",
    "    execution_time: amount of time to make predictions\n",
    "  \"\"\"\n",
    "  model = model.to(device)\n",
    "  start_time = time.time()\n",
    "  predictions = [] # Collect predictions\n",
    "  labels = [] # Collect true labels for evaluation\n",
    "  for i, datapoint in enumerate(test_tokenized):\n",
    "    if i >= pred_max_qty:\n",
    "      break\n",
    "    input_ids = torch.tensor([datapoint[\"input_ids\"]]).to(device)\n",
    "    attention_mask = torch.tensor([datapoint[\"attention_mask\"]]).to(device)\n",
    "\n",
    "    with torch.no_grad():\n",
    "      outputs = model(input_ids, attention_mask=attention_mask)\n",
    "      logits = outputs.logits\n",
    "      predicted_label_index = torch.argmax(logits, dim=-1)\n",
    "      predicted_label = model.config.id2label[predicted_label_index.item()]\n",
    "      predictions.append(predicted_label_index.item())\n",
    "      labels.append(datapoint['label'])\n",
    "      \n",
    "  # # Use converted integer labels for metric calculation\n",
    "  metric.add_batch(predictions=predictions, references=labels)\n",
    "  accuracy = metric.compute()\n",
    "  end_time = time.time()\n",
    "  execution_time = end_time - start_time\n",
    "\n",
    "  return predictions, labels, accuracy, execution_time\n"
   ]
  },
  {
   "cell_type": "code",
   "execution_count": 67,
   "id": "3fc807a8",
   "metadata": {},
   "outputs": [
    {
     "name": "stdout",
     "output_type": "stream",
     "text": [
      "Test Set Accuracy:  {'accuracy': 0.4506283662477558}\n",
      "Execution Time:  38.88341784477234\n"
     ]
    }
   ],
   "source": [
    "gpt2_base_predictions, gpt2_base_labels, gpt2_base_accuracy, gpt2_base_execution_time = predict(gpt2_model_base, test_tokenized, pred_max_qty=1114)\n",
    "print(\"Test Set Accuracy: \", gpt2_base_accuracy)\n",
    "print(\"Execution Time: \", gpt2_base_execution_time)"
   ]
  },
  {
   "cell_type": "markdown",
   "id": "62cfd900",
   "metadata": {},
   "source": [
    "The base GPT2 model had an accuracy of 45%. Let's see if we can improve on that with full fine tuning and parameter efficient fine tuning."
   ]
  },
  {
   "cell_type": "markdown",
   "id": "659ffd25",
   "metadata": {},
   "source": [
    "### Train model without Fine-Tuning\n",
    "\n",
    "In this section, the GPT2 base model is fully fine-tuned using the sms_spam dataset. Execution time and accuracy will be recorded to compare with parameter efficient fine-tuning later."
   ]
  },
  {
   "cell_type": "code",
   "execution_count": 10,
   "id": "51c46b1b",
   "metadata": {},
   "outputs": [
    {
     "name": "stderr",
     "output_type": "stream",
     "text": [
      " 11%|█         | 501/4459 [02:57<21:32,  3.06it/s]"
     ]
    },
    {
     "name": "stdout",
     "output_type": "stream",
     "text": [
      "{'loss': 0.8707, 'grad_norm': 0.010503172874450684, 'learning_rate': 0.0017757344696120207, 'epoch': 0.11}\n"
     ]
    },
    {
     "name": "stderr",
     "output_type": "stream",
     "text": [
      " 22%|██▏       | 1000/4459 [05:40<17:45,  3.25it/s]"
     ]
    },
    {
     "name": "stdout",
     "output_type": "stream",
     "text": [
      "{'loss': 0.5157, 'grad_norm': 0.03326600044965744, 'learning_rate': 0.0015514689392240413, 'epoch': 0.22}\n"
     ]
    },
    {
     "name": "stderr",
     "output_type": "stream",
     "text": [
      " 34%|███▎      | 1500/4459 [08:35<17:58,  2.74it/s]"
     ]
    },
    {
     "name": "stdout",
     "output_type": "stream",
     "text": [
      "{'loss': 0.3116, 'grad_norm': 0.027887722477316856, 'learning_rate': 0.001327203408836062, 'epoch': 0.34}\n"
     ]
    },
    {
     "name": "stderr",
     "output_type": "stream",
     "text": [
      " 45%|████▍     | 2000/4459 [11:45<17:54,  2.29it/s]"
     ]
    },
    {
     "name": "stdout",
     "output_type": "stream",
     "text": [
      "{'loss': 0.3003, 'grad_norm': 0.010177884250879288, 'learning_rate': 0.0011029378784480825, 'epoch': 0.45}\n"
     ]
    },
    {
     "name": "stderr",
     "output_type": "stream",
     "text": [
      " 56%|█████▌    | 2500/4459 [14:50<11:56,  2.74it/s]"
     ]
    },
    {
     "name": "stdout",
     "output_type": "stream",
     "text": [
      "{'loss': 0.1972, 'grad_norm': 0.0015331185422837734, 'learning_rate': 0.0008786723480601032, 'epoch': 0.56}\n"
     ]
    },
    {
     "name": "stderr",
     "output_type": "stream",
     "text": [
      " 67%|██████▋   | 3000/4459 [17:52<08:53,  2.73it/s]"
     ]
    },
    {
     "name": "stdout",
     "output_type": "stream",
     "text": [
      "{'loss': 0.1255, 'grad_norm': 0.005527514964342117, 'learning_rate': 0.0006544068176721239, 'epoch': 0.67}\n"
     ]
    },
    {
     "name": "stderr",
     "output_type": "stream",
     "text": [
      " 78%|███████▊  | 3500/4459 [21:00<05:37,  2.84it/s]"
     ]
    },
    {
     "name": "stdout",
     "output_type": "stream",
     "text": [
      "{'loss': 0.218, 'grad_norm': 0.022273581475019455, 'learning_rate': 0.00043014128728414443, 'epoch': 0.78}\n"
     ]
    },
    {
     "name": "stderr",
     "output_type": "stream",
     "text": [
      " 90%|████████▉ | 4000/4459 [23:59<02:42,  2.83it/s]"
     ]
    },
    {
     "name": "stdout",
     "output_type": "stream",
     "text": [
      "{'loss': 0.1455, 'grad_norm': 0.004164999816566706, 'learning_rate': 0.00020587575689616505, 'epoch': 0.9}\n"
     ]
    },
    {
     "name": "stderr",
     "output_type": "stream",
     "text": [
      "                                                   \n",
      "100%|██████████| 4459/4459 [29:03<00:00,  2.90it/s]"
     ]
    },
    {
     "name": "stdout",
     "output_type": "stream",
     "text": [
      "{'eval_loss': 0.8658758401870728, 'eval_accuracy': 0.8654708520179372, 'eval_runtime': 139.8593, 'eval_samples_per_second': 7.972, 'eval_steps_per_second': 7.972, 'epoch': 1.0}\n"
     ]
    },
    {
     "name": "stderr",
     "output_type": "stream",
     "text": [
      "100%|██████████| 4459/4459 [29:06<00:00,  2.55it/s]"
     ]
    },
    {
     "name": "stdout",
     "output_type": "stream",
     "text": [
      "{'train_runtime': 1746.7713, 'train_samples_per_second': 2.553, 'train_steps_per_second': 2.553, 'train_loss': 0.31658849311960363, 'epoch': 1.0}\n"
     ]
    },
    {
     "name": "stderr",
     "output_type": "stream",
     "text": [
      "\n"
     ]
    }
   ],
   "source": [
    "import numpy as np\n",
    "import time as time\n",
    "from transformers import DataCollatorWithPadding, Trainer, TrainingArguments\n",
    "\n",
    "def compute_metrics(eval_pred):\n",
    "    predictions, labels = eval_pred\n",
    "    predictions = np.argmax(predictions, axis=1)\n",
    "    return {'accuracy': (predictions == labels).mean()}\n",
    "\n",
    "start_time = time.time()\n",
    "\n",
    "# Use HuggingFace Trainer class for training and evaluating mbase model\n",
    "gpt2_trainer = Trainer(\n",
    "    model=gpt2_model_base,\n",
    "    args=TrainingArguments(\n",
    "        output_dir=\"./data/gpt2_sms_class\",\n",
    "        learning_rate=2e-3,\n",
    "        per_device_train_batch_size=1, # Keeping low for low memory\n",
    "        per_device_eval_batch_size=1,\n",
    "        num_train_epochs=1,\n",
    "        weight_decay=0.01,\n",
    "        evaluation_strategy='epoch',\n",
    "        save_strategy='epoch',\n",
    "        load_best_model_at_end=True,\n",
    "    ),\n",
    "    train_dataset=train_tokenized,\n",
    "    eval_dataset=test_tokenized,\n",
    "    tokenizer=gpt2_tokenizer,\n",
    "    data_collator=DataCollatorWithPadding(tokenizer=gpt2_tokenizer),\n",
    "    compute_metrics=compute_metrics,\n",
    "    )\n",
    "\n",
    "gpt2_trainer.train()\n",
    "end_time = time.time()\n",
    "gpt2_full_train_execution_time = end_time - start_time"
   ]
  },
  {
   "cell_type": "code",
   "execution_count": 11,
   "id": "dabb422d",
   "metadata": {},
   "outputs": [
    {
     "name": "stderr",
     "output_type": "stream",
     "text": [
      "100%|██████████| 1115/1115 [00:23<00:00, 48.44it/s]\n"
     ]
    },
    {
     "data": {
      "text/plain": [
       "{'eval_loss': 0.8932196497917175,\n",
       " 'eval_accuracy': 0.863677130044843,\n",
       " 'eval_runtime': 23.0973,\n",
       " 'eval_samples_per_second': 48.274,\n",
       " 'eval_steps_per_second': 48.274,\n",
       " 'epoch': 1.0}"
      ]
     },
     "execution_count": 11,
     "metadata": {},
     "output_type": "execute_result"
    }
   ],
   "source": [
    "gpt2_trainer.evaluate()"
   ]
  },
  {
   "cell_type": "markdown",
   "id": "6b79938d",
   "metadata": {},
   "source": [
    "Note that saved models are only saved locally. They are too large to save to Github."
   ]
  },
  {
   "cell_type": "code",
   "execution_count": 14,
   "id": "000b680a",
   "metadata": {},
   "outputs": [],
   "source": [
    "gpt2_model.save_pretrained('gpt2_full_train_spam')"
   ]
  },
  {
   "cell_type": "markdown",
   "id": "cfc46168",
   "metadata": {},
   "source": [
    "The fully fine-tuned GPT2 base model performed very well with a 99% accuracy. However, it took over 29 minutes to train on a CPU! Training time would decrease substantially on a GPU, but sometimes infrastructure may be lacking. Additionally, long training times from full fine-tuning and GPUs can be require a lot of energy. Parameter Efficient Fine Tuning (Peft) offers alternatives to potentially achieve similar or even better performance with much less training time. In the next section we'll focus on using LoRA to fine-tune the GPT2 model and see if we can achieve the same high level of accuracy with less training time."
   ]
  },
  {
   "cell_type": "markdown",
   "id": "4d52a229",
   "metadata": {},
   "source": [
    "## Performing Parameter-Efficient Fine-Tuning\n",
    "\n",
    "TODO: In the cells below, create a PEFT model from your loaded model, run a training loop, and save the PEFT model weights."
   ]
  },
  {
   "cell_type": "code",
   "execution_count": 12,
   "id": "5f1d289c",
   "metadata": {},
   "outputs": [
    {
     "name": "stderr",
     "output_type": "stream",
     "text": [
      "Some weights of GPT2ForSequenceClassification were not initialized from the model checkpoint at gpt2 and are newly initialized: ['score.weight']\n",
      "You should probably TRAIN this model on a down-stream task to be able to use it for predictions and inference.\n"
     ]
    },
    {
     "data": {
      "text/plain": [
       "Linear(in_features=768, out_features=2, bias=False)"
      ]
     },
     "execution_count": 12,
     "metadata": {},
     "output_type": "execute_result"
    }
   ],
   "source": [
    "gpt2_model_base = load_gpt2_model()\n",
    "gpt2_model_base.score"
   ]
  },
  {
   "cell_type": "code",
   "execution_count": 13,
   "id": "c96ab36b",
   "metadata": {},
   "outputs": [
    {
     "name": "stdout",
     "output_type": "stream",
     "text": [
      "trainable params: 148,992 || all params: 124,590,336 || trainable%: 0.11958551905663052\n"
     ]
    },
    {
     "name": "stderr",
     "output_type": "stream",
     "text": [
      "/Users/andrewwrist/Documents/Projects/AI_ML/venv/lib/python3.11/site-packages/peft/tuners/lora/layer.py:1059: UserWarning: fan_in_fan_out is set to False but the target module is `Conv1D`. Setting fan_in_fan_out to True.\n",
      "  warnings.warn(\n"
     ]
    }
   ],
   "source": [
    "import numpy as np\n",
    "from transformers import DataCollatorWithPadding, Trainer, TrainingArguments\n",
    "from peft import LoraConfig, TaskType, get_peft_model, LoftQConfig\n",
    "\n",
    "# Define LoRA configuration\n",
    "lora_config = LoraConfig(\n",
    "    task_type=TaskType.SEQ_CLS, # Set task type to sequence classification\n",
    "    r=4, # Set LoRA rank (number of low-rank adaptation matrices)\n",
    "    lora_alpha=1, # Set learning rate\n",
    "    lora_dropout=0.1, # Set dropout rate\n",
    ")\n",
    "\n",
    "# Create LoRA model\n",
    "lora_model = get_peft_model(gpt2_model_base, lora_config)\n",
    "\n",
    "lora_model.print_trainable_parameters()"
   ]
  },
  {
   "cell_type": "markdown",
   "id": "2a2c2b60",
   "metadata": {},
   "source": [
    "Now, instead of training the full model, as we did in the full fine-tuning, we are only training 11.96% of the trainable parameters for LoRA"
   ]
  },
  {
   "cell_type": "code",
   "execution_count": 15,
   "id": "3eb1dc20",
   "metadata": {},
   "outputs": [
    {
     "name": "stderr",
     "output_type": "stream",
     "text": [
      " 11%|█         | 501/4459 [01:02<05:59, 11.00it/s]"
     ]
    },
    {
     "name": "stdout",
     "output_type": "stream",
     "text": [
      "{'loss': 0.5542, 'grad_norm': 2.3128361590352142e-06, 'learning_rate': 0.0017757344696120207, 'epoch': 0.11}\n"
     ]
    },
    {
     "name": "stderr",
     "output_type": "stream",
     "text": [
      " 22%|██▏       | 1002/4459 [01:48<05:02, 11.44it/s]"
     ]
    },
    {
     "name": "stdout",
     "output_type": "stream",
     "text": [
      "{'loss': 0.1904, 'grad_norm': 2.759829476417508e-05, 'learning_rate': 0.0015514689392240413, 'epoch': 0.22}\n"
     ]
    },
    {
     "name": "stderr",
     "output_type": "stream",
     "text": [
      " 34%|███▎      | 1501/4459 [02:34<04:17, 11.48it/s]"
     ]
    },
    {
     "name": "stdout",
     "output_type": "stream",
     "text": [
      "{'loss': 0.1371, 'grad_norm': 0.025812074542045593, 'learning_rate': 0.001327203408836062, 'epoch': 0.34}\n"
     ]
    },
    {
     "name": "stderr",
     "output_type": "stream",
     "text": [
      " 45%|████▍     | 2002/4459 [03:21<04:18,  9.52it/s]"
     ]
    },
    {
     "name": "stdout",
     "output_type": "stream",
     "text": [
      "{'loss': 0.0882, 'grad_norm': 3.5229041372986103e-07, 'learning_rate': 0.0011029378784480825, 'epoch': 0.45}\n"
     ]
    },
    {
     "name": "stderr",
     "output_type": "stream",
     "text": [
      " 56%|█████▌    | 2501/4459 [04:07<04:04,  8.00it/s]"
     ]
    },
    {
     "name": "stdout",
     "output_type": "stream",
     "text": [
      "{'loss': 0.0918, 'grad_norm': 1.5261623047990724e-05, 'learning_rate': 0.0008786723480601032, 'epoch': 0.56}\n"
     ]
    },
    {
     "name": "stderr",
     "output_type": "stream",
     "text": [
      " 67%|██████▋   | 3001/4459 [04:51<02:04, 11.70it/s]"
     ]
    },
    {
     "name": "stdout",
     "output_type": "stream",
     "text": [
      "{'loss': 0.0484, 'grad_norm': 5.067917300038971e-06, 'learning_rate': 0.0006544068176721239, 'epoch': 0.67}\n"
     ]
    },
    {
     "name": "stderr",
     "output_type": "stream",
     "text": [
      " 79%|███████▊  | 3501/4459 [05:37<01:21, 11.72it/s]"
     ]
    },
    {
     "name": "stdout",
     "output_type": "stream",
     "text": [
      "{'loss': 0.0853, 'grad_norm': 0.00038298757863231003, 'learning_rate': 0.00043014128728414443, 'epoch': 0.78}\n"
     ]
    },
    {
     "name": "stderr",
     "output_type": "stream",
     "text": [
      " 90%|████████▉ | 4002/4459 [06:22<00:41, 11.14it/s]"
     ]
    },
    {
     "name": "stdout",
     "output_type": "stream",
     "text": [
      "{'loss': 0.1006, 'grad_norm': 6.577976496835447e-10, 'learning_rate': 0.00020587575689616505, 'epoch': 0.9}\n"
     ]
    },
    {
     "name": "stderr",
     "output_type": "stream",
     "text": [
      "                                                   \n",
      "100%|██████████| 4459/4459 [07:31<00:00, 11.20it/s]"
     ]
    },
    {
     "name": "stdout",
     "output_type": "stream",
     "text": [
      "{'eval_loss': 0.6739403009414673, 'eval_accuracy': 0.905829596412556, 'eval_runtime': 27.8562, 'eval_samples_per_second': 40.027, 'eval_steps_per_second': 40.027, 'epoch': 1.0}\n"
     ]
    },
    {
     "name": "stderr",
     "output_type": "stream",
     "text": [
      "100%|██████████| 4459/4459 [07:32<00:00,  9.85it/s]"
     ]
    },
    {
     "name": "stdout",
     "output_type": "stream",
     "text": [
      "{'train_runtime': 452.4709, 'train_samples_per_second': 9.855, 'train_steps_per_second': 9.855, 'train_loss': 0.15419702643261654, 'epoch': 1.0}\n"
     ]
    },
    {
     "name": "stderr",
     "output_type": "stream",
     "text": [
      "\n"
     ]
    }
   ],
   "source": [
    "# Define compute metrics for LoRA evaluation\n",
    "def compute_metrics(eval_pred):\n",
    "    predictions, labels = eval_pred\n",
    "    predictions = np.argmax(predictions, axis=1)\n",
    "    return {'accuracy': (predictions == labels).mean()}\n",
    "\n",
    "start_time = time.time()\n",
    "# Use HuggingFace Trainer class for training and evaluating LoRA model\n",
    "lora_trainer = Trainer(\n",
    "    model=lora_model,\n",
    "    args=TrainingArguments(\n",
    "        output_dir=\"./data/lora_gpt2\",\n",
    "        learning_rate=2e-3,\n",
    "        per_device_train_batch_size=1, # Keeping low for low memory\n",
    "        per_device_eval_batch_size=1,\n",
    "        num_train_epochs=1,\n",
    "        weight_decay=0.01,\n",
    "        evaluation_strategy='epoch',\n",
    "        save_strategy='epoch',\n",
    "        load_best_model_at_end=True,\n",
    "    ),\n",
    "    train_dataset=train_tokenized,\n",
    "    eval_dataset=test_tokenized,\n",
    "    tokenizer=gpt2_tokenizer,\n",
    "    data_collator=DataCollatorWithPadding(tokenizer=gpt2_tokenizer),\n",
    "    compute_metrics=compute_metrics,\n",
    "    )\n",
    "\n",
    "lora_trainer.train()\n",
    "\n",
    "end_time = time.time()\n",
    "lora_train_execution_time = end_time - start_time"
   ]
  },
  {
   "cell_type": "code",
   "execution_count": 16,
   "id": "2c8b23fd",
   "metadata": {},
   "outputs": [
    {
     "name": "stderr",
     "output_type": "stream",
     "text": [
      "100%|██████████| 1115/1115 [00:25<00:00, 43.38it/s]\n"
     ]
    },
    {
     "data": {
      "text/plain": [
       "{'eval_loss': 0.6740188598632812,\n",
       " 'eval_accuracy': 0.9049327354260089,\n",
       " 'eval_runtime': 26.4767,\n",
       " 'eval_samples_per_second': 42.113,\n",
       " 'eval_steps_per_second': 42.113,\n",
       " 'epoch': 1.0}"
      ]
     },
     "execution_count": 16,
     "metadata": {},
     "output_type": "execute_result"
    }
   ],
   "source": [
    "lora_trainer.evaluate()"
   ]
  },
  {
   "cell_type": "markdown",
   "id": "d67cd9a3",
   "metadata": {},
   "source": [
    "The LoRA model actually performed better than the full fine-tuned model in just a quarter of the time (7.5 minutes vs 29 minutes)! Not only are we saving time and improving performance with this PEFT technique, but we're also saving valuable computational and energy resources. In the next section, we will investigate further by performing inference and visually comparing the three models."
   ]
  },
  {
   "cell_type": "code",
   "execution_count": 22,
   "id": "fa7fe003",
   "metadata": {},
   "outputs": [],
   "source": [
    "lora_model.save_pretrained('gpt2_lora_email_spam')"
   ]
  },
  {
   "cell_type": "markdown",
   "id": "615b12c6",
   "metadata": {},
   "source": [
    "## Performing Inference with a PEFT Model\n",
    "\n",
    "In this section, we will load the saved PEFT model weights and evaluate the performance of the trained PEFT model and offer a visual comparison of performance against the other models."
   ]
  },
  {
   "cell_type": "code",
   "execution_count": 23,
   "id": "863ec66e",
   "metadata": {},
   "outputs": [
    {
     "name": "stderr",
     "output_type": "stream",
     "text": [
      "Some weights of GPT2ForSequenceClassification were not initialized from the model checkpoint at gpt2 and are newly initialized: ['score.weight']\n",
      "You should probably TRAIN this model on a down-stream task to be able to use it for predictions and inference.\n"
     ]
    }
   ],
   "source": [
    "from peft import PeftModelForSequenceClassification\n",
    "from transformers import AutoModelForSequenceClassification, DefaultDataCollator\n",
    "from transformers import GPT2Config\n",
    "# lora_model_out = AutoModelForSequenceClassification.from_pretrained('gpt2_lora_email_spam')\n",
    "\n",
    "# Configure saved LoRA model for loading\n",
    "lora_config = GPT2Config.from_pretrained('gpt2_lora_email_spam/adapter_config.json')\n",
    "\n",
    "# Add padding token\n",
    "lora_config.pad_token_id = lora_config.eos_token_id\n",
    "\n",
    "# Load saved LoRA model\n",
    "lora_model_out = GPT2ForSequenceClassification.from_pretrained('gpt2_lora_email_spam', config = lora_config)\n",
    "\n",
    "# Add padding token to the tokenizer\n",
    "gpt2_tokenizer.pad_token = gpt2_tokenizer.eos_token"
   ]
  },
  {
   "cell_type": "code",
   "execution_count": 52,
   "id": "0ef3fc17",
   "metadata": {},
   "outputs": [
    {
     "name": "stdout",
     "output_type": "stream",
     "text": [
      "Test Set Accuracy:  {'accuracy': 0.9937163375224417}\n",
      "Execution Time:  40.78544282913208\n"
     ]
    }
   ],
   "source": [
    "# Make predictions on the test set and calculate accuracy\n",
    "lora_predictions, lora_labels, lora_accuracy, lora_execution_time = predict(lora_model_out, test_tokenized, pred_max_qty=1114)\n",
    "print(\"Test Set Accuracy: \", lora_accuracy)\n",
    "print(\"Execution Time: \", lora_execution_time)"
   ]
  },
  {
   "cell_type": "code",
   "execution_count": 51,
   "id": "449809e9",
   "metadata": {},
   "outputs": [
    {
     "name": "stdout",
     "output_type": "stream",
     "text": [
      "Test Set Accuracy:  {'accuracy': 0.9901256732495511}\n",
      "Execution Time:  40.30510878562927\n"
     ]
    }
   ],
   "source": [
    "# Make predictions on the test set and calculate accuracy\n",
    "gpt2_fulltrain_predictions, gpt2_fulltrain_labels, gpt2_fulltrain_accuracy, gpt2_fulltrain_execution_time = predict(gpt2_model, test_tokenized, pred_max_qty=1114)\n",
    "# print(\"Test Set Predictions: \", base_predictions)\n",
    "# print(\"Test Set Labels: \", base_labels)\n",
    "print(\"Test Set Accuracy: \", gpt2_fulltrain_accuracy)\n",
    "print(\"Execution Time: \", gpt2_fulltrain_execution_time)"
   ]
  },
  {
   "cell_type": "code",
   "execution_count": 74,
   "id": "81f430ff",
   "metadata": {},
   "outputs": [
    {
     "data": {
      "text/html": [
       "<div>\n",
       "<style scoped>\n",
       "    .dataframe tbody tr th:only-of-type {\n",
       "        vertical-align: middle;\n",
       "    }\n",
       "\n",
       "    .dataframe tbody tr th {\n",
       "        vertical-align: top;\n",
       "    }\n",
       "\n",
       "    .dataframe thead th {\n",
       "        text-align: right;\n",
       "    }\n",
       "</style>\n",
       "<table border=\"1\" class=\"dataframe\">\n",
       "  <thead>\n",
       "    <tr style=\"text-align: right;\">\n",
       "      <th></th>\n",
       "      <th>sms</th>\n",
       "      <th>labels</th>\n",
       "      <th>gpt2_base_predictions</th>\n",
       "      <th>gpt2_full_tune</th>\n",
       "      <th>LoRA</th>\n",
       "    </tr>\n",
       "  </thead>\n",
       "  <tbody>\n",
       "    <tr>\n",
       "      <th>0</th>\n",
       "      <td>Kit Strip - you have been billed 150p. Netcollex Ltd. PO Box 1013 IG11 OJA\\n</td>\n",
       "      <td>1</td>\n",
       "      <td>1</td>\n",
       "      <td>1</td>\n",
       "      <td>1</td>\n",
       "    </tr>\n",
       "    <tr>\n",
       "      <th>1</th>\n",
       "      <td>URGENT This is our 2nd attempt to contact U. Your £900 prize from YESTERDAY is still awaiting collection. To claim CALL NOW 09061702893. ACL03530150PM\\n</td>\n",
       "      <td>1</td>\n",
       "      <td>1</td>\n",
       "      <td>1</td>\n",
       "      <td>1</td>\n",
       "    </tr>\n",
       "    <tr>\n",
       "      <th>2</th>\n",
       "      <td>Some friends want me to drive em someplace, probably take a while\\n</td>\n",
       "      <td>0</td>\n",
       "      <td>1</td>\n",
       "      <td>0</td>\n",
       "      <td>0</td>\n",
       "    </tr>\n",
       "    <tr>\n",
       "      <th>3</th>\n",
       "      <td>Dunno y u ask me.\\n</td>\n",
       "      <td>0</td>\n",
       "      <td>1</td>\n",
       "      <td>0</td>\n",
       "      <td>0</td>\n",
       "    </tr>\n",
       "    <tr>\n",
       "      <th>4</th>\n",
       "      <td>Call Germany for only 1 pence per minute! Call from a fixed line via access number 0844 861 85 85. No prepayment. Direct access!\\n</td>\n",
       "      <td>1</td>\n",
       "      <td>1</td>\n",
       "      <td>1</td>\n",
       "      <td>1</td>\n",
       "    </tr>\n",
       "    <tr>\n",
       "      <th>5</th>\n",
       "      <td>Yes princess! I want to catch you with my big strong hands...\\n</td>\n",
       "      <td>0</td>\n",
       "      <td>1</td>\n",
       "      <td>0</td>\n",
       "      <td>0</td>\n",
       "    </tr>\n",
       "    <tr>\n",
       "      <th>6</th>\n",
       "      <td>Dear,shall mail tonite.busy in the street,shall update you tonite.things are looking ok.varunnathu edukkukayee raksha ollu.but a good one in real sense.\\n</td>\n",
       "      <td>0</td>\n",
       "      <td>0</td>\n",
       "      <td>1</td>\n",
       "      <td>0</td>\n",
       "    </tr>\n",
       "    <tr>\n",
       "      <th>7</th>\n",
       "      <td>(You didn't hear it from me)\\n</td>\n",
       "      <td>0</td>\n",
       "      <td>1</td>\n",
       "      <td>0</td>\n",
       "      <td>0</td>\n",
       "    </tr>\n",
       "    <tr>\n",
       "      <th>8</th>\n",
       "      <td>I promise to take good care of you, princess. I have to run now. Please send pics when you get a chance. Ttyl!\\n</td>\n",
       "      <td>0</td>\n",
       "      <td>0</td>\n",
       "      <td>0</td>\n",
       "      <td>0</td>\n",
       "    </tr>\n",
       "    <tr>\n",
       "      <th>9</th>\n",
       "      <td>all the lastest from Stereophonics, Marley, Dizzee Racal, Libertines and The Strokes! Win Nookii games with Flirt!! Click TheMob WAP Bookmark or text WAP to 82468\\n</td>\n",
       "      <td>1</td>\n",
       "      <td>1</td>\n",
       "      <td>1</td>\n",
       "      <td>1</td>\n",
       "    </tr>\n",
       "  </tbody>\n",
       "</table>\n",
       "</div>"
      ],
      "text/plain": [
       "                                                                                                                                                                    sms  \\\n",
       "0                                                                                          Kit Strip - you have been billed 150p. Netcollex Ltd. PO Box 1013 IG11 OJA\\n   \n",
       "1              URGENT This is our 2nd attempt to contact U. Your £900 prize from YESTERDAY is still awaiting collection. To claim CALL NOW 09061702893. ACL03530150PM\\n   \n",
       "2                                                                                                   Some friends want me to drive em someplace, probably take a while\\n   \n",
       "3                                                                                                                                                   Dunno y u ask me.\\n   \n",
       "4                                    Call Germany for only 1 pence per minute! Call from a fixed line via access number 0844 861 85 85. No prepayment. Direct access!\\n   \n",
       "5                                                                                                       Yes princess! I want to catch you with my big strong hands...\\n   \n",
       "6            Dear,shall mail tonite.busy in the street,shall update you tonite.things are looking ok.varunnathu edukkukayee raksha ollu.but a good one in real sense.\\n   \n",
       "7                                                                                                                                        (You didn't hear it from me)\\n   \n",
       "8                                                      I promise to take good care of you, princess. I have to run now. Please send pics when you get a chance. Ttyl!\\n   \n",
       "9  all the lastest from Stereophonics, Marley, Dizzee Racal, Libertines and The Strokes! Win Nookii games with Flirt!! Click TheMob WAP Bookmark or text WAP to 82468\\n   \n",
       "\n",
       "   labels  gpt2_base_predictions  gpt2_full_tune  LoRA  \n",
       "0       1                      1               1     1  \n",
       "1       1                      1               1     1  \n",
       "2       0                      1               0     0  \n",
       "3       0                      1               0     0  \n",
       "4       1                      1               1     1  \n",
       "5       0                      1               0     0  \n",
       "6       0                      0               1     0  \n",
       "7       0                      1               0     0  \n",
       "8       0                      0               0     0  \n",
       "9       1                      1               1     1  "
      ]
     },
     "metadata": {},
     "output_type": "display_data"
    }
   ],
   "source": [
    "import pandas as pd\n",
    "\n",
    "review_count = slice(26, 36) # Define a slice that has a good mix of spam and not spam\n",
    "review_set = test_tokenized[review_count]\n",
    "\n",
    "# Set up dataframe to compare labels and predictions with SMS messages from the test dataset\n",
    "df_review = pd.DataFrame(\n",
    "    {\n",
    "        'sms': [item for item in review_set['sms']],\n",
    "        'labels': [item for item in review_set['label']],\n",
    "        'gpt2_base_predictions': gpt2_base_predictions[review_count],\n",
    "        'gpt2_full_tune': gpt2_fulltrain_predictions[review_count],\n",
    "        'LoRA': lora_predictions[review_count]\n",
    "        \n",
    "    }\n",
    ")\n",
    "pd.set_option('display.max_colwidth', None)\n",
    "display(df_review)"
   ]
  },
  {
   "cell_type": "markdown",
   "id": "c27380e8",
   "metadata": {},
   "source": [
    "This selection of 10 spam messages was selected as it was a fairly even distribution between spam (1) and not spam (0). You can observe in the selection of SMS examples above, that LoRA perfromed very well, with 100% accuracy across the SMS messages, correctly identifying 4 of the spam messages as spam. the fully-tuned GPT2 model predicted one extra spam message, while the base model, significantly overpredicted, labeling 4 incorrectly as spam. "
   ]
  },
  {
   "cell_type": "code",
   "execution_count": 77,
   "id": "c4d13177",
   "metadata": {},
   "outputs": [],
   "source": [
    "# Set train times for plot\n",
    "gpt2_full_train_time = 29 * 60\n",
    "LoRA_train_time = 7.5 * 60\n",
    "gpt2_base_train_time = 0\n"
   ]
  },
  {
   "cell_type": "code",
   "execution_count": 93,
   "id": "4ad01095",
   "metadata": {},
   "outputs": [
    {
     "name": "stderr",
     "output_type": "stream",
     "text": [
      "/var/folders/dz/71j5m95x01d2wwbm3pz62vz80000gn/T/ipykernel_11896/4128727213.py:27: UserWarning: set_ticklabels() should only be used with a fixed number of ticks, i.e. after set_ticks() or using a FixedLocator.\n",
      "  ax1.set_xticklabels(x_times, rotation=45)  # Set labels and rotate\n",
      "/var/folders/dz/71j5m95x01d2wwbm3pz62vz80000gn/T/ipykernel_11896/4128727213.py:38: UserWarning: set_ticklabels() should only be used with a fixed number of ticks, i.e. after set_ticks() or using a FixedLocator.\n",
      "  ax2.set_xticklabels(x_accuracies, rotation=45)  # Set labels and rotate\n"
     ]
    },
    {
     "data": {
      "image/png": "[encoded data removed]",
      "text/plain": [
       "<Figure size 1000x600 with 2 Axes>"
      ]
     },
     "metadata": {},
     "output_type": "display_data"
    }
   ],
   "source": [
    "import matplotlib.pyplot as plt\n",
    "\n",
    "# Training times (seconds)\n",
    "training_times = {\n",
    "    # 'Base model': gpt2_base_train_time,\n",
    "    'Full fine-tuning': gpt2_full_train_time,\n",
    "    'LoRA': LoRA_train_time\n",
    "}\n",
    "\n",
    "# Accuracies\n",
    "accuracies = {\n",
    "    'Full fine-tuning': gpt2_fulltrain_accuracy['accuracy'],\n",
    "    'LoRA': lora_accuracy['accuracy'],\n",
    "    'Base model': gpt2_base_accuracy['accuracy']\n",
    "    }\n",
    "\n",
    "# Create separate subplots for training times and accuracies\n",
    "fig, (ax1, ax2) = plt.subplots(1, 2, figsize=(10, 6))\n",
    "\n",
    "# Bar chart for training times\n",
    "x_times = training_times.keys()\n",
    "y_times = training_times.values()\n",
    "ax1.bar(x_times, y_times, color=['blue', 'green', 'orange'])\n",
    "ax1.set_title('Training Time (seconds)')\n",
    "ax1.set_xlabel('Fine-tuning Method')\n",
    "ax1.set_ylabel('Time (s)')\n",
    "ax1.set_xticklabels(x_times, rotation=45)  # Set labels and rotate\n",
    "\n",
    "\n",
    "# Bar chart for accuracies\n",
    "x_accuracies = accuracies.keys()\n",
    "y_accuracies = accuracies.values()\n",
    "# ax2.bar(x_labels, y_accuracies, color=['blue', 'green', 'orange'])\n",
    "ax2.bar(x_accuracies, y_accuracies, color=['blue', 'green', 'orange'])\n",
    "ax2.set_title('Accuracy')\n",
    "ax2.set_xlabel('Fine-tuning Method')\n",
    "ax2.set_ylabel('Accuracy')\n",
    "ax2.set_xticklabels(x_accuracies, rotation=45)  # Set labels and rotate\n",
    "\n",
    "# Adjust layout and display the plot\n",
    "plt.tight_layout()\n",
    "plt.show()\n"
   ]
  },
  {
   "cell_type": "markdown",
   "id": "ba10161e",
   "metadata": {},
   "source": [
    "Our experiments demonstrated that the Parameter-Efficient Fine-Tuning (PEFT) method using LoRA achieved comparable performance to full fine-tuning on the GPT-2 model for SMS spam classification on Hugging Face. Both models achieved 99% accuracy on the test set. However, the LoRA model required only a quarter of the training time compared to full fine-tuning. This significant reduction in training time translates to lower energy consumption. Notably, the base GPT-2 model, without fine-tuning, performed poorly on the task, achieving only 45% accuracy.Our experiments demonstrated that the Parameter-Efficient Fine-Tuning (PEFT) method using LoRA achieved comparable performance to full fine-tuning on the GPT-2 model for SMS spam classification on Hugging Face. Both models achieved 99% accuracy on the test set. However, the LoRA model required only a quarter of the training time compared to full fine-tuning. This significant reduction in training time translates to lower energy consumption. Notably, the base GPT-2 model, without fine-tuning, performed poorly on the task, achieving only 45% accuracy.\n",
    "\n",
    "\n",
    "This project was part of the Udacity Generative AI Nanodegree. Special thanks for Udacity for the training materials and making this work possible."
   ]
  }
 ],
 "metadata": {
  "kernelspec": {
   "display_name": "Python 3.11.7 ('venv': venv)",
   "language": "python",
   "name": "python3"
  },
  "language_info": {
   "codemirror_mode": {
    "name": "ipython",
    "version": 3
   },
   "file_extension": ".py",
   "mimetype": "text/x-python",
   "name": "python",
   "nbconvert_exporter": "python",
   "pygments_lexer": "ipython3",
   "version": "3.11.7"
  },
  "vscode": {
   "interpreter": {
    "hash": "6b5b525088d6332c5cf70b03a9f5e180ca0f3c63042aef5ed677c6c58b7b131a"
   }
  }
 },
 "nbformat": 4,
 "nbformat_minor": 5
}
